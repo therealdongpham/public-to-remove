{
 "cells": [
  {
   "cell_type": "markdown",
   "id": "f40cf7f3-59dc-4cda-9508-6062ddf4293b",
   "metadata": {},
   "source": [
    "# Data Science Tools and Ecosystem\n",
    "In this notebook, Data Science Tools and Ecosystem are summarized."
   ]
  },
  {
   "cell_type": "markdown",
   "id": "9cedf0d2-a6c8-49e5-9f4c-59217e4b6b15",
   "metadata": {},
   "source": [
    "Some of the popular languages that Data Scientists use are:\n",
    "1.  Python\n",
    "2.  R\n",
    "3.  Scala"
   ]
  },
  {
   "cell_type": "markdown",
   "id": "f26f9f5d-6f3b-4cd3-9d8a-71cf9339b97a",
   "metadata": {},
   "source": [
    "**Objectives:**\n",
    "* Take the certificate\n",
    "* Learning to see what IBM teach us\n",
    "* To understand how good Jupyter Notebook is"
   ]
  },
  {
   "cell_type": "markdown",
   "id": "1f38f1a0-ab17-485b-af3d-6ca39e4882af",
   "metadata": {},
   "source": [
    "Some of the commonly used libraries used by Data Scientists include:\n",
    "1. NumPy\n",
    "2. Matplotlib\n",
    "3. Pandas\n",
    "4. SciPy"
   ]
  },
  {
   "cell_type": "markdown",
   "id": "749ac682-f035-42ef-bb78-b67be1a18bfe",
   "metadata": {},
   "source": [
    "<table>\n",
    "    <th>\n",
    "        Data Science Tools\n",
    "    </th>\n",
    "    <tr>\n",
    "        <td>Seaborn</td>\n",
    "    </tr>\n",
    "    <tr>       \n",
    "        <td>PyTorch</td>       \n",
    "    </tr>\n",
    "    <tr>       \n",
    "        <td>Jupyter Notebook</td>\n",
    "    </tr>\n",
    "</table>"
   ]
  },
  {
   "cell_type": "markdown",
   "id": "3d983f8f-78fd-409a-a4d2-cb512e947a41",
   "metadata": {},
   "source": [
    "<h3>Below are a few examples of evaluating arithmetic expressions in Python</h3>"
   ]
  },
  {
   "cell_type": "code",
   "execution_count": 1,
   "id": "98566e74-7f59-4a1c-8f2c-a97078b37112",
   "metadata": {
    "tags": []
   },
   "outputs": [
    {
     "data": {
      "text/plain": [
       "17"
      ]
     },
     "execution_count": 1,
     "metadata": {},
     "output_type": "execute_result"
    }
   ],
   "source": [
    "# This a simple arithmetic expression to mutiply then add integers\n",
    "(3*4)+5"
   ]
  },
  {
   "cell_type": "code",
   "execution_count": 2,
   "id": "3b966717-6c00-49f8-8401-177038b96a7f",
   "metadata": {
    "tags": []
   },
   "outputs": [
    {
     "data": {
      "text/plain": [
       "3.3333333333333335"
      ]
     },
     "execution_count": 2,
     "metadata": {},
     "output_type": "execute_result"
    }
   ],
   "source": [
    "# This will convert 200 minutes to hours by diving by 60\n",
    "200 / 60"
   ]
  },
  {
   "cell_type": "markdown",
   "id": "080916d5-fad5-4d3e-8d3b-e8bec6714d1f",
   "metadata": {},
   "source": [
    "## Author\n",
    "My Name"
   ]
  },
  {
   "cell_type": "code",
   "execution_count": null,
   "id": "bde09e29-8587-44b2-a53a-f03d41ab1d3d",
   "metadata": {},
   "outputs": [],
   "source": []
  }
 ],
 "metadata": {
  "kernelspec": {
   "display_name": "Python",
   "language": "python",
   "name": "conda-env-python-py"
  },
  "language_info": {
   "codemirror_mode": {
    "name": "ipython",
    "version": 3
   },
   "file_extension": ".py",
   "mimetype": "text/x-python",
   "name": "python",
   "nbconvert_exporter": "python",
   "pygments_lexer": "ipython3",
   "version": "3.7.12"
  }
 },
 "nbformat": 4,
 "nbformat_minor": 5
}
